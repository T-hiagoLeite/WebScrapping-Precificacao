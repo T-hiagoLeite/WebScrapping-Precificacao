{
  "nbformat": 4,
  "nbformat_minor": 0,
  "metadata": {
    "colab": {
      "provenance": [],
      "collapsed_sections": [
        "htOQobF3CRpY",
        "Yga1a7qYbIsf",
        "kgEGlZy_eH9Y",
        "sJOeMiuSUgor",
        "ufvmI6qgRMp-",
        "a-rOF3uURTZV",
        "GEPVp1I4ecad",
        "xu3wAOT4923K",
        "qNF3vR5o5poJ",
        "OXdcbzBlPClG",
        "M91bPVqt-KuY",
        "s8NjKlYOCJa5"
      ]
    },
    "kernelspec": {
      "name": "python3",
      "display_name": "Python 3"
    },
    "language_info": {
      "name": "python"
    }
  },
  "cells": [
    {
      "cell_type": "markdown",
      "source": [
        "# Importações"
      ],
      "metadata": {
        "id": "htOQobF3CRpY"
      }
    },
    {
      "cell_type": "code",
      "source": [
        "import requests\n",
        "from bs4 import BeautifulSoup\n",
        "import pandas as pd\n",
        "from datetime import datetime\n",
        "import io\n",
        "import re\n",
        "import os\n",
        "import math\n",
        "import time\n",
        "import gdown\n",
        "!pip install gdown\n",
        "import shutil\n",
        "from google.colab import files"
      ],
      "metadata": {
        "id": "FMTbG8lNCXW6",
        "colab": {
          "base_uri": "https://localhost:8080/"
        },
        "outputId": "ce0743c3-c6dd-4f66-a35e-77ea20da27da"
      },
      "execution_count": null,
      "outputs": [
        {
          "output_type": "stream",
          "name": "stdout",
          "text": [
            "Requirement already satisfied: gdown in /usr/local/lib/python3.10/dist-packages (4.7.3)\n",
            "Requirement already satisfied: filelock in /usr/local/lib/python3.10/dist-packages (from gdown) (3.13.1)\n",
            "Requirement already satisfied: requests[socks] in /usr/local/lib/python3.10/dist-packages (from gdown) (2.31.0)\n",
            "Requirement already satisfied: six in /usr/local/lib/python3.10/dist-packages (from gdown) (1.16.0)\n",
            "Requirement already satisfied: tqdm in /usr/local/lib/python3.10/dist-packages (from gdown) (4.66.2)\n",
            "Requirement already satisfied: beautifulsoup4 in /usr/local/lib/python3.10/dist-packages (from gdown) (4.12.3)\n",
            "Requirement already satisfied: soupsieve>1.2 in /usr/local/lib/python3.10/dist-packages (from beautifulsoup4->gdown) (2.5)\n",
            "Requirement already satisfied: charset-normalizer<4,>=2 in /usr/local/lib/python3.10/dist-packages (from requests[socks]->gdown) (3.3.2)\n",
            "Requirement already satisfied: idna<4,>=2.5 in /usr/local/lib/python3.10/dist-packages (from requests[socks]->gdown) (3.6)\n",
            "Requirement already satisfied: urllib3<3,>=1.21.1 in /usr/local/lib/python3.10/dist-packages (from requests[socks]->gdown) (2.0.7)\n",
            "Requirement already satisfied: certifi>=2017.4.17 in /usr/local/lib/python3.10/dist-packages (from requests[socks]->gdown) (2024.2.2)\n",
            "Requirement already satisfied: PySocks!=1.5.7,>=1.5.6 in /usr/local/lib/python3.10/dist-packages (from requests[socks]->gdown) (1.7.1)\n"
          ]
        }
      ]
    },
    {
      "cell_type": "markdown",
      "source": [
        "# Preços Quitandaria"
      ],
      "metadata": {
        "id": "Yga1a7qYbIsf"
      }
    },
    {
      "cell_type": "markdown",
      "source": [
        "## Preços por KG"
      ],
      "metadata": {
        "id": "kgEGlZy_eH9Y"
      }
    },
    {
      "cell_type": "code",
      "source": [
        "# Lista de nomes e URLs dos produtos no Quitandaria\n",
        "produtos_quitandaria = [\n",
        "    [\"Abacate\", \"https://maceio.quitandaria.com.br/produto/index/p/abacate-un\"],\n",
        "    [\"Abobrinha\", \"https://maceio.quitandaria.com.br/produto/index/p/abobrinha-un\"],\n",
        "    [\"Acerola\", \"https://maceio.quitandaria.com.br/produto/index/p/acerola-cumbuca-500g\"],\n",
        "    [\"Alho Cabeça\", \"https://maceio.quitandaria.com.br/produto/index/p/alho-redinha-200g\"],\n",
        "    [\"Ameixa\", \"https://maceio.quitandaria.com.br/produto/index/p/ameixa-fresca-nacional-un\"],\n",
        "    [\"Banana Prata\", \"https://maceio.quitandaria.com.br/produto/index/p/banana-prata-6un\"],\n",
        "    [\"Batata Doce\", \"https://maceio.quitandaria.com.br/produto/index/p/batata-doce-3un\"],\n",
        "    [\"Batata Inglesa\", \"https://maceio.quitandaria.com.br/produto/index/p/batata-inglesa-un\"],\n",
        "    [\"Cará\", \"https://maceio.quitandaria.com.br/produto/index/p/car-santom-1kg\"],\n",
        "    [\"Castanha de Caju\", \"https://maceio.quitandaria.com.br/produto/index/p/castanha-de-caju-natural-100g-verdao\"],\n",
        "    [\"Castanha do Pará\", \"https://maceio.quitandaria.com.br/produto/index/p/castanha-do-para-verdao-100g\"],\n",
        "    [\"Cebola Branca\", \"https://maceio.quitandaria.com.br/produto/index/p/cebola-branca-2un\"],\n",
        "    [\"Cebola Roxa\", \"https://maceio.quitandaria.com.br/produto/index/p/cebola-roxa-2un\"],\n",
        "    [\"Cenoura\", \"https://maceio.quitandaria.com.br/produto/index/p/cenoura-un\"],\n",
        "    [\"Goiaba Vermelha\", \"https://maceio.quitandaria.com.br/produto/index/p/goiaba-un\"],\n",
        "    [\"Kiwi\", \"https://maceio.quitandaria.com.br/produto/index/p/kiwi-importado-un\"],\n",
        "    [\"Laranja Lima\", \"https://maceio.quitandaria.com.br/produto/index/p/laranja-lima-un\"],\n",
        "    [\"Laranja Pêra\", \"https://maceio.quitandaria.com.br/produto/index/p/laranja-pera-un\"],\n",
        "    [\"Limão Taiti\", \"https://maceio.quitandaria.com.br/produto/index/p/limo-taiti-un\"],\n",
        "    [\"Maçã Gala\", \"https://maceio.quitandaria.com.br/produto/index/p/ma-nacional-un\"],\n",
        "    [\"Maçã Importada\", \"https://maceio.quitandaria.com.br/produto/index/p/ma-argentina-un\"],\n",
        "    [\"Maçã Verde\", \"https://maceio.quitandaria.com.br/produto/index/p/ma-verde-un\"],\n",
        "    [\"Macaxeira\", \"https://maceio.quitandaria.com.br/produto/index/p/macaxeira-3un\"],\n",
        "    [\"Mamão Formosa\", \"https://maceio.quitandaria.com.br/produto/index/p/mamo-formosa-un\"],\n",
        "    [\"Mamão Papaya\", \"https://maceio.quitandaria.com.br/produto/index/p/mamo-hava-gold-un\"],\n",
        "    [\"Manga Espada\", \"https://maceio.quitandaria.com.br/produto/index/p/manga-espada-un\"],\n",
        "    [\"Manga Rosa\", \"https://maceio.quitandaria.com.br/produto/index/p/manga-rosa-un\"],\n",
        "    [\"Manga Tommy\", \"https://maceio.quitandaria.com.br/produto/index/p/manga-tomy-un\"],\n",
        "    [\"Maracujá\", \"https://maceio.quitandaria.com.br/produto/index/p/maracuj-un\"],\n",
        "    [\"Melancia\", \"https://maceio.quitandaria.com.br/produto/index/p/melancia-codama-un\"],\n",
        "    [\"Melão Amarelo\", \"https://maceio.quitandaria.com.br/produto/index/p/melo-espanhol-redinha-un\"],\n",
        "    [\"Morango\", \"https://maceio.quitandaria.com.br/produto/index/p/morango-crocante-peterfrut-250g\"],\n",
        "    [\"Pepino\", \"https://maceio.quitandaria.com.br/produto/index/p/pepino-comum-un\"],\n",
        "    [\"Pêra\", \"https://maceio.quitandaria.com.br/produto/index/p/pera-importada-danju-un\"],\n",
        "    [\"Repolho Verde\", \"https://maceio.quitandaria.com.br/produto/index/p/repolho-verde-1-2un\"],\n",
        "    [\"Tangerina Pokan\", \"https://maceio.quitandaria.com.br/produto/index/p/tangerina-nacional-1-kg\"],\n",
        "    [\"Tomate Débora\", \"https://maceio.quitandaria.com.br/produto/index/p/tomate-2un\"],\n",
        "    [\"Uva Verde\", \"https://maceio.quitandaria.com.br/produto/index/p/uva-thompson-verdo-500g\"],\n",
        "    [\"Uva Vitória\", \"https://maceio.quitandaria.com.br/produto/index/p/uva-nacional-vitoria-verdo-500g\"],\n",
        "]"
      ],
      "metadata": {
        "id": "fiXl0bQlpdmu"
      },
      "execution_count": null,
      "outputs": []
    },
    {
      "cell_type": "code",
      "source": [
        "# Função para extrair dados de um produto em uma URL\n",
        "def scrape_product(url, nome_produto):\n",
        "    headers = {\"User-Agent\": \"Mozilla/5.0\"}\n",
        "    response = requests.get(url, headers=headers)\n",
        "    soup = BeautifulSoup(response.text, 'html.parser')\n",
        "    product_box = soup.find('div', class_='produto-box')\n",
        "\n",
        "    # Extrai o título do produto diretamente do HTML\n",
        "    title_element = product_box.find('h1') if product_box else None\n",
        "    title_text = title_element.text if title_element else nome_produto\n",
        "\n",
        "    # Lógica de extração do preço\n",
        "    price_element = product_box.find('p', class_='preco').find('span', class_='preco') if product_box else None\n",
        "    price_text = price_element.text if price_element else None\n",
        "    if price_text:\n",
        "        price_text = price_text.replace('.', '').replace(',', '.')\n",
        "        product_price = float(price_text) if price_text else None\n",
        "    else:\n",
        "        product_price = None\n",
        "    extraction_datetime = datetime.now().strftime(\"%Y-%m-%d %H:%M:%S\")\n",
        "\n",
        "    # Lógica de extração da quantidade e unidade a partir do título\n",
        "    match = re.search(r'(\\d+(,\\d+)?)\\s*(KG|G|kg|g)', title_text, re.IGNORECASE)\n",
        "    if match:\n",
        "        quantity_text = match.group(1).replace(',', '.')\n",
        "        quantity = float(quantity_text)\n",
        "        unit = match.group(3).upper()\n",
        "        if unit == 'G':\n",
        "            price_per_kg = (product_price / quantity) * 1000 if product_price and quantity else None\n",
        "        elif unit == 'KG':\n",
        "            price_per_kg = product_price / quantity if product_price and quantity else None\n",
        "    else:\n",
        "        quantity = None\n",
        "        unit = None\n",
        "        price_per_kg = product_price\n",
        "\n",
        "    if price_per_kg is not None:\n",
        "        price_per_kg = round(price_per_kg, 2)\n",
        "    price_per_kg_formatted = f'{price_per_kg:.2f}' if price_per_kg else None\n",
        "\n",
        "    return {\n",
        "        'name': nome_produto,\n",
        "        'price': product_price,\n",
        "        'quantity': quantity,\n",
        "        'unit': unit,\n",
        "        'price_per_kg': price_per_kg_formatted,\n",
        "        'extraction_datetime': extraction_datetime,\n",
        "        'store': 'Quitandaria'\n",
        "    }\n",
        "\n",
        "# Função principal\n",
        "def main():\n",
        "    all_products = []\n",
        "    for nome_produto, url in produtos_quitandaria:\n",
        "        product = scrape_product(url, nome_produto)\n",
        "        all_products.append(product)\n",
        "    df = pd.DataFrame(all_products)\n",
        "    if not os.path.isfile('quitandaria_precos_kg.csv'):\n",
        "        df.to_csv('quitandaria_precos_kg.csv', index=False)\n",
        "    else:\n",
        "        df.to_csv('quitandaria_precos_kg.csv', mode='a', header=False, index=False)\n",
        "\n",
        "main()\n",
        "\n",
        "# Carrega o CSV\n",
        "df = pd.read_csv('quitandaria_precos_kg.csv')\n",
        "\n",
        "# Substitui os pontos por vírgulas em todas as colunas\n",
        "df = df.applymap(lambda x: str(x).replace('.', ','))\n",
        "\n",
        "# Salva o DataFrame atualizado no CSV\n",
        "df.to_csv('quitandaria_precos_kg.csv', index=False)"
      ],
      "metadata": {
        "id": "Knzt3AMCvGNN"
      },
      "execution_count": null,
      "outputs": []
    },
    {
      "cell_type": "markdown",
      "source": [
        "## Preços por Unidade"
      ],
      "metadata": {
        "id": "sJOeMiuSUgor"
      }
    },
    {
      "cell_type": "code",
      "source": [
        "# Lista combinada de nomes e links dos produtos\n",
        "produtos_quitandaria = [\n",
        "    [\"Abacaxi\", \"https://maceio.quitandaria.com.br/produto/index/p/abacaxi-un\"],\n",
        "    [\"Acelga\", \"https://maceio.quitandaria.com.br/produto/index/p/acelga-1-2-unidade\"],\n",
        "    [\"Alface Crespa\", \"https://maceio.quitandaria.com.br/produto/index/p/alface-crespa-un\"],\n",
        "    [\"Brócolis\", \"https://maceio.quitandaria.com.br/produto/index/p/brocolis-ninja-250g-verdao\"],\n",
        "    [\"Cebolinha\", \"https://maceio.quitandaria.com.br/produto/index/p/cebolinha-un\"],\n",
        "    [\"Coco Verde\", \"https://maceio.quitandaria.com.br/produto/index/p/coco-verde-un\"],\n",
        "    [\"Coentro\", \"https://maceio.quitandaria.com.br/produto/index/p/coentro-un\"],\n",
        "    [\"Couve Folha\", \"https://maceio.quitandaria.com.br/produto/index/p/couve-folha-un\"],\n",
        "]\n"
      ],
      "metadata": {
        "id": "mB-gPP9Rpiu-"
      },
      "execution_count": null,
      "outputs": []
    },
    {
      "cell_type": "code",
      "source": [
        "# Função para extrair dados de um produto em uma URL\n",
        "def scrape_product(url, nome_produto):\n",
        "    headers = {\"User-Agent\": \"Mozilla/5.0\"}\n",
        "    response = requests.get(url, headers=headers)\n",
        "    soup = BeautifulSoup(response.text, 'html.parser')\n",
        "    product_box = soup.find('div', class_='produto-box')\n",
        "\n",
        "    # Extrai o título do produto diretamente do HTML\n",
        "    title_element = product_box.find('h1') if product_box else None\n",
        "    title_text = title_element.text if title_element else nome_produto\n",
        "\n",
        "    # Lógica de extração do preço\n",
        "    price_element = product_box.find('p', class_='preco').find('span', class_='preco') if product_box else None\n",
        "    price_text = price_element.text if price_element else None\n",
        "    if price_text:\n",
        "        price_text = price_text.replace('.', '').replace(',', '.')\n",
        "        product_price = float(price_text) if price_text else None\n",
        "    else:\n",
        "        product_price = None\n",
        "    extraction_datetime = datetime.now().strftime(\"%Y-%m-%d %H:%M:%S\")\n",
        "\n",
        "    return {\n",
        "        'name': nome_produto,  # Usar o nome fornecido na lista produtos_quitandaria\n",
        "        'price': product_price,\n",
        "        'extraction_datetime': extraction_datetime,\n",
        "        'store': 'Quitandaria'\n",
        "    }\n",
        "\n",
        "# Função principal\n",
        "def main():\n",
        "    all_products = []\n",
        "    for nome_produto, url in produtos_quitandaria:\n",
        "        product = scrape_product(url, nome_produto)\n",
        "        all_products.append(product)\n",
        "    df = pd.DataFrame(all_products)\n",
        "    if not os.path.isfile('quitandaria_precos_unidade.csv'):\n",
        "        df.to_csv('quitandaria_precos_unidade.csv', index=False)\n",
        "    else:\n",
        "        df.to_csv('quitandaria_precos_unidade.csv', mode='a', header=False, index=False)\n",
        "\n",
        "main()\n",
        "\n",
        "# Carrega o CSV\n",
        "df = pd.read_csv('quitandaria_precos_unidade.csv')\n",
        "\n",
        "# Substitui os pontos por vírgulas em todas as colunas\n",
        "df = df.applymap(lambda x: str(x).replace('.', ','))\n",
        "\n",
        "# Salva o DataFrame atualizado no CSV\n",
        "df.to_csv('quitandaria_precos_unidade.csv', index=False)"
      ],
      "metadata": {
        "id": "E5R3B04RUk94"
      },
      "execution_count": null,
      "outputs": []
    },
    {
      "cell_type": "markdown",
      "source": [
        "# Preços Gbarbosa"
      ],
      "metadata": {
        "id": "ufvmI6qgRMp-"
      }
    },
    {
      "cell_type": "markdown",
      "source": [
        "## Produtos por KG"
      ],
      "metadata": {
        "id": "a-rOF3uURTZV"
      }
    },
    {
      "cell_type": "code",
      "source": [
        "# Lista combinada de nomes e URLs dos produtos no Gbarbosa\n",
        "produtos_gbarbosa = [\n",
        "    [\"Abóbora Leite\", \"https://www.gbarbosa.com.br/abobora-leite/p\"],\n",
        "    [\"Abobrinha\", \"https://www.gbarbosa.com.br/abobrinha/p\"],\n",
        "    [\"Alho Cabeça\", \"https://www.gbarbosa.com.br/alho-especial-granel/p\"],\n",
        "    [\"Ameixa\", \"https://www.gbarbosa.com.br/ameixa-fresca-importada/p\"],\n",
        "    [\"Banana Prata\", \"https://www.gbarbosa.com.br/banana-prata/p\"],\n",
        "    [\"Batata Doce\", \"https://www.gbarbosa.com.br/batata-doce/p\"],\n",
        "    [\"Batata Inglesa\", \"https://www.gbarbosa.com.br/batata-inglesa-lisa-bingi/p\"],\n",
        "    [\"Castanha de Caju\", \"https://www.gbarbosa.com.br/castanha-de-caju-gbarbosa-natural-150g/p\"],\n",
        "    [\"Castanha do Pará\", \"https://www.gbarbosa.com.br/castanha-do-para-gbarbosa-150g/p\"],\n",
        "    [\"Cebola Branca\", \"https://www.gbarbosa.com.br/cebola-branca/p\"],\n",
        "    [\"Cebola Roxa\", \"https://www.gbarbosa.com.br/cebola-roxa/p\"],\n",
        "    [\"Cenoura\", \"https://www.gbarbosa.com.br/cenoura/p\"],\n",
        "    [\"Goiaba Vermelha\", \"https://www.gbarbosa.com.br/goiaba-vermelha-pedaco/p\"],\n",
        "    [\"Kiwi\", \"https://www.gbarbosa.com.br/kiwi-importado/p\"],\n",
        "    [\"Laranja Lima\", \"https://www.gbarbosa.com.br/laranja-lima-da-persia/p\"],\n",
        "    [\"Laranja Pêra\", \"https://www.gbarbosa.com.br/laranja-pera/p\"],\n",
        "    [\"Limão Taiti\", \"https://www.gbarbosa.com.br/limao-taiti/p\"],\n",
        "    [\"Maçã Gala\", \"https://www.gbarbosa.com.br/maca-nacional-vermelha/p\"],\n",
        "    [\"Maçã Importada\", \"https://www.gbarbosa.com.br/maca-argentina/p\"],\n",
        "    [\"Maçã Verde\", \"https://www.gbarbosa.com.br/maca-verde-importada/p\"],\n",
        "    [\"Mamão Formosa\", \"https://www.gbarbosa.com.br/mamao-formosa-em-cubos/p\"],\n",
        "    [\"Mamão Papaya\", \"https://www.gbarbosa.com.br/mamao-papaya/p\"],\n",
        "    [\"Manga espada\", \"https://www.gbarbosa.com.br/manga-espada/p\"],\n",
        "    [\"Manga rosa\", \"https://www.gbarbosa.com.br/manga-rosa/p\"],\n",
        "    [\"Maracujá\", \"https://www.gbarbosa.com.br/maracuja/p\"],\n",
        "    [\"Melancia\", \"https://www.gbarbosa.com.br/melancia-pedaco/p\"],\n",
        "    [\"Melão Amarelo\", \"https://www.gbarbosa.com.br/melao-doce-redinha/p\"],\n",
        "    [\"Pepino\", \"https://www.gbarbosa.com.br/pepino-comum/p\"],\n",
        "    [\"Pêra\", \"https://www.gbarbosa.com.br/pera-importada/p\"],\n",
        "    [\"Repolho Verde\", \"https://www.gbarbosa.com.br/repolho-verde/p\"],\n",
        "    [\"Tangerina Pokan\", \"https://www.gbarbosa.com.br/tangerina-murcote-especial/p\"],\n",
        "    [\"Tomate Débora\", \"https://www.gbarbosa.com.br/tomate/p\"],\n",
        "    [\"Cará\", \"https://www.gbarbosa.com.br/inhame/p\"],\n",
        "    [\"Tomate Italiano\", \"https://www.gbarbosa.com.br/tomate-italiano/p\"],\n",
        "    [\"Uva Verde\", \"https://www.gbarbosa.com.br/uva-doce-mel-thompson-cumbuca-500g/p\"],\n",
        "    [\"Morango\", \"https://www.gbarbosa.com.br/morango-nacional-bandeja-250g/p\"],\n",
        "    [\"Uva Vitória\", \"https://www.gbarbosa.com.br/uva-fruta-nativa-vitoria-500g/p\"]\n",
        "]"
      ],
      "metadata": {
        "id": "gSnGubBjpm9T"
      },
      "execution_count": null,
      "outputs": []
    },
    {
      "cell_type": "code",
      "source": [
        "# Nome do arquivo CSV\n",
        "csv_file = \"gbarbosa_precos_kg.csv\"\n",
        "\n",
        "# Verifica se o arquivo CSV já existe\n",
        "if os.path.isfile(csv_file):\n",
        "    # Carrega o arquivo CSV existente em um DataFrame\n",
        "    df = pd.read_csv(csv_file)\n",
        "else:\n",
        "    # Cria um DataFrame vazio se o arquivo não existe\n",
        "    df = pd.DataFrame()\n",
        "\n",
        "# Lista para armazenar os dados de cada página\n",
        "data_list = []\n",
        "\n",
        "for nome_produto, url in produtos_gbarbosa:\n",
        "    # Faz a solicitação HTTP para a página\n",
        "    response = requests.get(url)\n",
        "\n",
        "    # Verifica se a solicitação foi bem-sucedida\n",
        "    if response.status_code == 200:\n",
        "        # Parseia o conteúdo da página com BeautifulSoup\n",
        "        soup = BeautifulSoup(response.text, \"html.parser\")\n",
        "\n",
        "        # Lógica para encontrar o nome do produto\n",
        "        product_name = soup.find(\"span\", class_=\"vtex-store-components-3-x-productBrand\")\n",
        "        product_name = product_name.get_text(strip=True) if product_name else \"none\"\n",
        "\n",
        "        # Lógica para encontrar o preço\n",
        "        price_elements = soup.select(\".vtex-flex-layout-0-x-flexRow--price-details .gbarbosa-gbarbosa-components-0-x-currencyContainer\")\n",
        "\n",
        "        if len(price_elements) > 1:\n",
        "            price_text = price_elements[1].text.strip()\n",
        "            price_numeric = float(price_text.replace(\"R$\", \"\").replace(\",\", \".\").replace(\",\", \"\").replace(\",\", \"\").replace(\",\", \"\"))\n",
        "        else:\n",
        "            price_text = \"none\"\n",
        "            price_numeric = \"none\"\n",
        "\n",
        "        # Lógica para encontrar o elemento que contém a quantidade e a unidade\n",
        "        asterisk = soup.find(\"small\", class_=\"vtex-store-components-3-x-asterisk\")\n",
        "\n",
        "        if asterisk:\n",
        "            # Extrai a quantidade e a unidade usando uma expressão regular\n",
        "            match = re.search(r'(\\d+(?:\\.\\d+)?)\\s*([Kk]?[Gg])', asterisk.text)\n",
        "\n",
        "            if match:\n",
        "                quantity = float(match.group(1).replace(\".\", \"\"))\n",
        "                unit = match.group(2).upper()\n",
        "            else:\n",
        "                quantity = \"none\"\n",
        "                unit = \"none\"\n",
        "        else:\n",
        "            # Segunda tentativa: Extrai da URL\n",
        "            url_match = re.search(r'(\\d+)[Kk]?[Gg]', url)\n",
        "            if url_match:\n",
        "                quantity = int(url_match.group(1))\n",
        "                unit = \"G\" if \"g\" in url.lower() else \"KG\"\n",
        "            else:\n",
        "                quantity = \"none\"\n",
        "                unit = \"none\"\n",
        "\n",
        "        # Lógica para calcular o preço por kg\n",
        "        if unit != \"none\" and quantity != \"none\" and price_numeric != \"none\":\n",
        "            if unit == \"KG\":\n",
        "                price_per_kg = price_numeric\n",
        "            elif unit == \"G\":\n",
        "                price_per_kg = price_numeric / (quantity / 1000)\n",
        "        else:\n",
        "            # Se tanto a quantidade quanto a unidade são \"none\", define price_per_kg como o valor da coluna \"price\"\n",
        "            price_per_kg = price_numeric if quantity == \"none\" and unit == \"none\" else \"none\"\n",
        "\n",
        "        if price_per_kg != \"none\":\n",
        "            # Arredonda para duas casas decimais usando math.floor\n",
        "            price_per_kg = math.floor(price_per_kg * 100) / 100\n",
        "\n",
        "        # Adiciona a data de extração\n",
        "        extraction_date_time = datetime.now()\n",
        "\n",
        "        # Formata a data e hora para incluir apenas os segundos\n",
        "        extraction_date_time = extraction_date_time.strftime('%Y-%m-%d %H:%M:%S')\n",
        "\n",
        "        # Cria um dicionário de dados\n",
        "        data = {\n",
        "            \"name\": nome_produto,\n",
        "            \"price\": price_numeric,\n",
        "            \"quantity\": quantity,\n",
        "            \"unit\": unit,\n",
        "            \"price_per_kg\": price_per_kg,\n",
        "            \"extraction_datetime\": extraction_date_time,\n",
        "            \"store\": \"Gbarbosa\"\n",
        "        }\n",
        "\n",
        "        data_list.append(data)\n",
        "    else:\n",
        "        print(f\"Falha ao acessar a página {url}. Código de status:\", response.status_code)\n",
        "\n",
        "# Concatena os novos dados com o DataFrame existente\n",
        "if data_list:\n",
        "    new_data_df = pd.DataFrame(data_list)\n",
        "    df = pd.concat([df, new_data_df], ignore_index=True)\n",
        "\n",
        "# Salva o DataFrame em um arquivo CSV usando \",\" como separador decimal\n",
        "df.to_csv(csv_file, index=False, decimal=',')\n",
        "\n",
        "print(f\"Dados salvos em '{csv_file}'\")"
      ],
      "metadata": {
        "colab": {
          "base_uri": "https://localhost:8080/"
        },
        "id": "fOmGd5UvyFlg",
        "outputId": "b68c9478-5923-4bc5-d285-4548e8a8ba52"
      },
      "execution_count": null,
      "outputs": [
        {
          "output_type": "stream",
          "name": "stdout",
          "text": [
            "Falha ao acessar a página https://www.gbarbosa.com.br/abobrinha/p. Código de status: 404\n",
            "Falha ao acessar a página https://www.gbarbosa.com.br/castanha-do-para-gbarbosa-150g/p. Código de status: 404\n",
            "Falha ao acessar a página https://www.gbarbosa.com.br/melao-doce-redinha/p. Código de status: 404\n",
            "Falha ao acessar a página https://www.gbarbosa.com.br/tangerina-murcote-especial/p. Código de status: 404\n",
            "Falha ao acessar a página https://www.gbarbosa.com.br/uva-fruta-nativa-vitoria-500g/p. Código de status: 404\n",
            "Dados salvos em 'gbarbosa_precos_kg.csv'\n"
          ]
        }
      ]
    },
    {
      "cell_type": "markdown",
      "source": [
        "## Preços por Unidade"
      ],
      "metadata": {
        "id": "GEPVp1I4ecad"
      }
    },
    {
      "cell_type": "code",
      "source": [
        "# Lista de nomes e URLs dos produtos no Gbarbosa\n",
        "produtos_gbarbosa_unidade = [\n",
        "    [\"Abacaxi\", \"https://www.gbarbosa.com.br/abacaxi-perola-unid/p\"],\n",
        "    [\"Acelga\", \"https://www.gbarbosa.com.br/acelga/p\"],\n",
        "    [\"Brócolis\", \"https://www.gbarbosa.com.br/brocolis-chines-unid/p\"],\n",
        "    [\"Coco Verde\", \"https://www.gbarbosa.com.br/coco-verde/p\"],\n",
        "    [\"Coentro\", \"https://www.gbarbosa.com.br/coentro-unid/p\"],\n",
        "    [\"Couve Folha\", \"https://www.gbarbosa.com.br/couve-folha-unid/p\"]\n",
        "]"
      ],
      "metadata": {
        "id": "ofJuEO7kpzzw"
      },
      "execution_count": null,
      "outputs": []
    },
    {
      "cell_type": "code",
      "source": [
        "# Nome do arquivo CSV\n",
        "csv_file = \"gbarbosa_precos_unidade.csv\"\n",
        "\n",
        "# Verifica se o arquivo CSV já existe\n",
        "if os.path.isfile(csv_file):\n",
        "    # Carrega o arquivo CSV existente em um DataFrame\n",
        "    df = pd.read_csv(csv_file)\n",
        "else:\n",
        "    # Cria um DataFrame vazio se o arquivo não existe\n",
        "    df = pd.DataFrame()\n",
        "\n",
        "# Lista para armazenar os dados de cada página\n",
        "data_list = []\n",
        "\n",
        "for nome_produto, url in produtos_gbarbosa_unidade:\n",
        "    # Faz a solicitação HTTP para a página\n",
        "    response = requests.get(url)\n",
        "\n",
        "    # Verifica se a solicitação foi bem-sucedida\n",
        "    if response.status_code == 200:\n",
        "        # Parseia o conteúdo da página com BeautifulSoup\n",
        "        soup = BeautifulSoup(response.text, \"html.parser\")\n",
        "\n",
        "        # Lógica para encontrar o nome do produto\n",
        "        product_name = soup.find(\"span\", class_=\"vtex-store-components-3-x-productBrand\")\n",
        "        product_name = product_name.get_text(strip=True) if product_name else \"none\"\n",
        "\n",
        "        # Lógica para encontrar o preço\n",
        "        price_elements = soup.select(\".vtex-flex-layout-0-x-flexRow--price-details .gbarbosa-gbarbosa-components-0-x-currencyContainer\")\n",
        "\n",
        "        if len(price_elements) > 1:\n",
        "            price_text = price_elements[1].text.strip()\n",
        "            price_numeric = float(price_text.replace(\"R$\", \"\").replace(\",\", \".\").replace(\",\", \"\").replace(\",\", \"\").replace(\",\", \"\"))\n",
        "        else:\n",
        "            price_text = \"none\"\n",
        "            price_numeric = \"none\"\n",
        "\n",
        "        # Adiciona a data de extração\n",
        "        extraction_date_time = datetime.now()\n",
        "\n",
        "        # Formata a data e hora para incluir apenas os segundos\n",
        "        extraction_date_time = extraction_date_time.strftime('%Y-%m-%d %H:%M:%S')\n",
        "\n",
        "        # Cria um dicionário de dados\n",
        "        data = {\n",
        "            \"name\": nome_produto,\n",
        "            \"price\": price_numeric,\n",
        "            \"extraction_datetime\": extraction_date_time,\n",
        "            \"store\": \"Gbarbosa\"\n",
        "        }\n",
        "\n",
        "        data_list.append(data)\n",
        "    else:\n",
        "        print(f\"Falha ao acessar a página {url}. Código de status:\", response.status_code)\n",
        "\n",
        "# Concatena os novos dados com o DataFrame existente\n",
        "if data_list:\n",
        "    new_data_df = pd.DataFrame(data_list)\n",
        "    df = pd.concat([df, new_data_df], ignore_index=True)\n",
        "\n",
        "# Salva o DataFrame em um arquivo CSV usando \",\" como separador decimal\n",
        "df.to_csv(csv_file, index=False, decimal=',')\n",
        "\n",
        "print(f\"Dados salvos em '{csv_file}'\")"
      ],
      "metadata": {
        "colab": {
          "base_uri": "https://localhost:8080/"
        },
        "id": "wf6Hnj8Oefj1",
        "outputId": "7a730ae8-18c1-4b55-b62b-a33341a60828"
      },
      "execution_count": null,
      "outputs": [
        {
          "output_type": "stream",
          "name": "stdout",
          "text": [
            "Falha ao acessar a página https://www.gbarbosa.com.br/acelga/p. Código de status: 404\n",
            "Falha ao acessar a página https://www.gbarbosa.com.br/couve-folha-unid/p. Código de status: 404\n",
            "Dados salvos em 'gbarbosa_precos_unidade.csv'\n"
          ]
        }
      ]
    },
    {
      "cell_type": "markdown",
      "source": [
        "# Preços Frutiver"
      ],
      "metadata": {
        "id": "axDoZh2yZ5hU"
      }
    },
    {
      "cell_type": "markdown",
      "source": [
        "## Preços por KG"
      ],
      "metadata": {
        "id": "xu3wAOT4923K"
      }
    },
    {
      "cell_type": "code",
      "source": [
        "\"\"\"# Lista combinada de nomes e URLs dos produtos da Frutiver\n",
        "produtos = [\n",
        "    [\"Abacate\", \"https://www.frutiver.com.br/produto/abacate-emb-600g/\"],\n",
        "    [\"Abacaxi\", \"https://www.frutiver.com.br/produto/abacaxi-perola-extra-a-und-900g/\"],\n",
        "    [\"Abóbora Leite\", \"https://www.frutiver.com.br/produto/abobora-leite-emb-11kg/\"],\n",
        "    [\"Abobrinha\", \"https://www.frutiver.com.br/produto/abobrinha-italiana-emb-400g-media-1-a-2und/\"],\n",
        "    [\"Acerola\", \"https://www.frutiver.com.br/produto/acerola-congelada-emb-1kg/\"],\n",
        "    [\"Alho Cabeça\", \"https://www.frutiver.com.br/produto/alho-brco-imp-cabeca-50g/\"],\n",
        "    [\"Ameixa\", \"https://www.frutiver.com.br/produto/ameixa-fresca-imp-emb-60g/\"],\n",
        "    [\"Banana Prata\", \"https://www.frutiver.com.br/produto/banana-pacovan-extra-aaa-und-100g/\"],\n",
        "    [\"Batata Doce\", \"https://www.frutiver.com.br/produto/batata-doce-rosada-emb-800g-media-2-a-3und/\"],\n",
        "    [\"Batata Inglesa\", \"https://www.frutiver.com.br/produto/batata-inglesa-esp-emb-700g-media-5-a-6und/\"],\n",
        "    [\"Brócolis\", \"https://www.frutiver.com.br/produto/brocolis-ninja-und-300g/\"],\n",
        "    [\"Cará\", \"https://www.frutiver.com.br/produto/inhame-sao-tome-extra-a/\"],\n",
        "    [\"Cebola Branca\", \"https://www.frutiver.com.br/produto/cebola-extra-aaa-emb-600g-media-3-a-4und/\"],\n",
        "    [\"Cebola Roxa\", \"https://www.frutiver.com.br/produto/cebola-roxa-emb-600g-media-5-a-6und/\"],\n",
        "    [\"Cebolinha\", \"https://www.frutiver.com.br/produto/cebolinha-und-50g/\"],\n",
        "    [\"Cenoura\", \"https://www.frutiver.com.br/produto/cenoura-extra-aaa-emb-600g-media-2-a-3und/\"],\n",
        "    [\"Coco Verde\", \"https://www.frutiver.com.br/produto/coco-verde-und/\"],\n",
        "    [\"Coentro\", \"https://www.frutiver.com.br/produto/coentro-und-100g/\"],\n",
        "    [\"Goiaba Vermelha\", \"https://www.frutiver.com.br/produto/goiaba-und-100g/\"],\n",
        "    [\"Kiwi\", \"https://www.frutiver.com.br/produto/kiwi-imp-und-80g/\"],\n",
        "    [\"Laranja Lima\", \"https://www.frutiver.com.br/produto/laranja-lima-extra-aaa-und-100g/\"],\n",
        "    [\"Laranja Pêra\", \"https://www.frutiver.com.br/produto/laranja-pera-emb-25kg-media-11-a-12und/\"],\n",
        "    [\"Limão Taiti\", \"https://www.frutiver.com.br/produto/limao-extra-aaa-und-60g/\"],\n",
        "    [\"Maçã Gala\", \"https://www.frutiver.com.br/produto/maca-nacional-165-und/\"],\n",
        "    [\"Maçã Verde\", \"https://www.frutiver.com.br/produto/maca-granny-smith-und-150g/\"],\n",
        "    [\"Macaxeira\", \"https://www.frutiver.com.br/produto/macaxeira-extra-aaa/\"],\n",
        "    [\"Mamão Formosa\", \"https://www.frutiver.com.br/produto/mamao-formosa-extra-aaa-12kg/\"],\n",
        "    [\"Mamão Papaya\", \"https://www.frutiver.com.br/produto/mamao-havai-extra-aaa-350g/\"],\n",
        "    [\"Manga Tommy\", \"https://www.frutiver.com.br/produto/manga-tomy-extra-aaa-und-300g/\"],\n",
        "    [\"Maracujá\", \"https://www.frutiver.com.br/produto/maracuja-azedo-extra-aaa-emb-500g/\"],\n",
        "    [\"Melancia\", \"https://www.frutiver.com.br/produto/melancia-extra-a-5kg/\"],\n",
        "    [\"Melão Amarelo\", \"https://www.frutiver.com.br/produto/melao-espanhol-extra-aaa-und-13kg/\"],\n",
        "    [\"Morango\", \"https://www.frutiver.com.br/produto/morango-fresco-bdj-300g/\"],\n",
        "    [\"Pepino\", \"https://www.frutiver.com.br/produto/pepino-japones-emb-500g-media-2-a-3und/\"],\n",
        "    [\"Pêra\", \"https://www.frutiver.com.br/produto/pera-danjou-und-133g/\"],\n",
        "    [\"Repolho Verde\", \"https://www.frutiver.com.br/produto/repolho-verde-emb-12kg/\"],\n",
        "    [\"Tomate Débora\", \"https://www.frutiver.com.br/produto/tomate-salada-l-vida-aaa-emb-500g-media-2-a-3und/\"],\n",
        "    [\"Tomate Italiano\", \"https://www.frutiver.com.br/produto/tomate-p-molho-emb-500g-media-5-a-6und/\"],\n",
        "    [\"Uva Verde\", \"https://www.frutiver.com.br/produto/uva-thompson-imp-s-s-vde-emb-500g/\"],\n",
        "    [\"Uva Vitória\", \"https://www.frutiver.com.br/produto/uva-roxa-s-semente-emb-500g/\"]\n",
        "]\"\"\""
      ],
      "metadata": {
        "id": "SAGpAaQwpRX2",
        "colab": {
          "base_uri": "https://localhost:8080/"
        },
        "outputId": "779b76bf-383d-4bb2-dcf2-537e7d1e7524"
      },
      "execution_count": null,
      "outputs": [
        {
          "output_type": "execute_result",
          "data": {
            "text/plain": [
              "'# Lista combinada de nomes e URLs dos produtos da Frutiver\\nprodutos = [\\n    [\"Abacate\", \"https://www.frutiver.com.br/produto/abacate-emb-600g/\"],\\n    [\"Abacaxi\", \"https://www.frutiver.com.br/produto/abacaxi-perola-extra-a-und-900g/\"],\\n    [\"Abóbora Leite\", \"https://www.frutiver.com.br/produto/abobora-leite-emb-11kg/\"],\\n    [\"Abobrinha\", \"https://www.frutiver.com.br/produto/abobrinha-italiana-emb-400g-media-1-a-2und/\"],\\n    [\"Acerola\", \"https://www.frutiver.com.br/produto/acerola-congelada-emb-1kg/\"],\\n    [\"Alho Cabeça\", \"https://www.frutiver.com.br/produto/alho-brco-imp-cabeca-50g/\"],\\n    [\"Ameixa\", \"https://www.frutiver.com.br/produto/ameixa-fresca-imp-emb-60g/\"],\\n    [\"Banana Prata\", \"https://www.frutiver.com.br/produto/banana-pacovan-extra-aaa-und-100g/\"],\\n    [\"Batata Doce\", \"https://www.frutiver.com.br/produto/batata-doce-rosada-emb-800g-media-2-a-3und/\"],\\n    [\"Batata Inglesa\", \"https://www.frutiver.com.br/produto/batata-inglesa-esp-emb-700g-media-5-a-6und/\"],\\n    [\"Brócolis\", \"https://www.frutiver.com.br/produto/brocolis-ninja-und-300g/\"],\\n    [\"Cará\", \"https://www.frutiver.com.br/produto/inhame-sao-tome-extra-a/\"],\\n    [\"Cebola Branca\", \"https://www.frutiver.com.br/produto/cebola-extra-aaa-emb-600g-media-3-a-4und/\"],\\n    [\"Cebola Roxa\", \"https://www.frutiver.com.br/produto/cebola-roxa-emb-600g-media-5-a-6und/\"],\\n    [\"Cebolinha\", \"https://www.frutiver.com.br/produto/cebolinha-und-50g/\"],\\n    [\"Cenoura\", \"https://www.frutiver.com.br/produto/cenoura-extra-aaa-emb-600g-media-2-a-3und/\"],\\n    [\"Coco Verde\", \"https://www.frutiver.com.br/produto/coco-verde-und/\"],\\n    [\"Coentro\", \"https://www.frutiver.com.br/produto/coentro-und-100g/\"],\\n    [\"Goiaba Vermelha\", \"https://www.frutiver.com.br/produto/goiaba-und-100g/\"],\\n    [\"Kiwi\", \"https://www.frutiver.com.br/produto/kiwi-imp-und-80g/\"],\\n    [\"Laranja Lima\", \"https://www.frutiver.com.br/produto/laranja-lima-extra-aaa-und-100g/\"],\\n    [\"Laranja Pêra\", \"https://www.frutiver.com.br/produto/laranja-pera-emb-25kg-media-11-a-12und/\"],\\n    [\"Limão Taiti\", \"https://www.frutiver.com.br/produto/limao-extra-aaa-und-60g/\"],\\n    [\"Maçã Gala\", \"https://www.frutiver.com.br/produto/maca-nacional-165-und/\"],\\n    [\"Maçã Verde\", \"https://www.frutiver.com.br/produto/maca-granny-smith-und-150g/\"],\\n    [\"Macaxeira\", \"https://www.frutiver.com.br/produto/macaxeira-extra-aaa/\"],\\n    [\"Mamão Formosa\", \"https://www.frutiver.com.br/produto/mamao-formosa-extra-aaa-12kg/\"],\\n    [\"Mamão Papaya\", \"https://www.frutiver.com.br/produto/mamao-havai-extra-aaa-350g/\"],\\n    [\"Manga Tommy\", \"https://www.frutiver.com.br/produto/manga-tomy-extra-aaa-und-300g/\"],\\n    [\"Maracujá\", \"https://www.frutiver.com.br/produto/maracuja-azedo-extra-aaa-emb-500g/\"],\\n    [\"Melancia\", \"https://www.frutiver.com.br/produto/melancia-extra-a-5kg/\"],\\n    [\"Melão Amarelo\", \"https://www.frutiver.com.br/produto/melao-espanhol-extra-aaa-und-13kg/\"],\\n    [\"Morango\", \"https://www.frutiver.com.br/produto/morango-fresco-bdj-300g/\"],\\n    [\"Pepino\", \"https://www.frutiver.com.br/produto/pepino-japones-emb-500g-media-2-a-3und/\"],\\n    [\"Pêra\", \"https://www.frutiver.com.br/produto/pera-danjou-und-133g/\"],\\n    [\"Repolho Verde\", \"https://www.frutiver.com.br/produto/repolho-verde-emb-12kg/\"],\\n    [\"Tomate Débora\", \"https://www.frutiver.com.br/produto/tomate-salada-l-vida-aaa-emb-500g-media-2-a-3und/\"],\\n    [\"Tomate Italiano\", \"https://www.frutiver.com.br/produto/tomate-p-molho-emb-500g-media-5-a-6und/\"],\\n    [\"Uva Verde\", \"https://www.frutiver.com.br/produto/uva-thompson-imp-s-s-vde-emb-500g/\"],\\n    [\"Uva Vitória\", \"https://www.frutiver.com.br/produto/uva-roxa-s-semente-emb-500g/\"]\\n]'"
            ],
            "application/vnd.google.colaboratory.intrinsic+json": {
              "type": "string"
            }
          },
          "metadata": {},
          "execution_count": 10
        }
      ]
    },
    {
      "cell_type": "code",
      "source": [
        "\"\"\"# Função para extrair dados de uma URL\n",
        "def extrair_dados_frutiver(url, nome_produto):\n",
        "    # Define um cabeçalho de usuário para a solicitação HTTP\n",
        "    headers = {\n",
        "    \"User-Agent\": \"Mozilla/5.0 (iPhone; CPU iPhone OS 14_4 like Mac OS X) AppleWebKit/605.1.15 (KHTML, like Gecko) Version/14.0.3 Mobile/15E148 Safari/604.1\"\n",
        "}\n",
        "    response = requests.get(url, headers=headers)\n",
        "    soup = BeautifulSoup(response.text, 'html.parser')  # Analisa o HTML da página\n",
        "\n",
        "    # Extrai o título da página\n",
        "    title = soup.find('title').text\n",
        "\n",
        "    # Extrai o preço atual do produto\n",
        "    preco_atual = extrair_preco_atual(soup)\n",
        "\n",
        "    # Extrai a quantidade e a unidade do título\n",
        "    quantidade, unidade = extrair_quantidade_e_unidade(title)\n",
        "\n",
        "    # Calcula o preço por quilo\n",
        "    preco_por_quilo = calcular_preco_por_quilo(preco_atual, quantidade, unidade)\n",
        "\n",
        "    # Obtém a data e hora da extração\n",
        "    extraction_datetime = datetime.now().strftime(\"%Y-%m-%d %H:%M:%S\")\n",
        "\n",
        "    # Formata a quantidade com vírgula como separador de casas decimais\n",
        "    quantidade_str = f\"{quantidade:.2f}\".replace('.', ',')\n",
        "\n",
        "    # Verifica se o preço por quilo está disponível antes de formatá-lo como uma string\n",
        "    if preco_por_quilo is not None:\n",
        "        # Formata o preço por quilo com vírgula como separador de casas decimais\n",
        "        preco_por_quilo_str = f\"{preco_por_quilo:.2f}\".replace('.', ',')\n",
        "    else:\n",
        "        preco_por_quilo_str = None\n",
        "\n",
        "    # Retorna um dicionário com os dados do produto\n",
        "    return {\n",
        "        'name': nome_produto,\n",
        "        'price': preco_atual,\n",
        "        'quantity': quantidade_str,\n",
        "        'unit': unidade,\n",
        "        'price_per_kg': preco_por_quilo_str,\n",
        "        'extraction_datetime': extraction_datetime,\n",
        "        'store': 'Frutiver'\n",
        "    }\n",
        "\n",
        "# Função para calcular o preço por quilo\n",
        "def calcular_preco_por_quilo(preco, quantidade, unidade):\n",
        "    if preco is None:\n",
        "        return None  # Retorna None para o preço por quilo se o preço não estiver disponível\n",
        "\n",
        "    preco = float(preco.replace(',', '.'))  # Converte o preço em um número de ponto flutuante\n",
        "    preco_por_quilo = None\n",
        "\n",
        "    if quantidade:\n",
        "        if unidade == 'G':\n",
        "            preco_por_quilo = (preco / quantidade) * 1000  # Calcula o preço por quilo\n",
        "        elif unidade == 'KG':\n",
        "            preco_por_quilo = preco / quantidade  # Calcula o preço por quilo\n",
        "\n",
        "    # Arredonda o valor para baixo com duas casas decimais\n",
        "    preco_por_quilo = math.floor(preco_por_quilo * 100) / 100\n",
        "\n",
        "    return preco_por_quilo\n",
        "\n",
        "# Função para extrair o preço atual do produto do HTML\n",
        "def extrair_preco_atual(soup):\n",
        "    # Tenta encontrar o elemento com a classe \"price\"\n",
        "    price_element = soup.find('p', class_='price')\n",
        "\n",
        "    if price_element:\n",
        "        # Procura dentro do elemento price por elementos span que contenham o preço\n",
        "        price_span = price_element.find('span', class_='woocommerce-Price-amount')\n",
        "\n",
        "        if price_span:\n",
        "            # Obtém o texto do preço e remove o símbolo \"R$\"\n",
        "            preco_atual = price_span.text.replace('R$', '').strip()\n",
        "\n",
        "            if preco_atual.replace(',', '', 1).isdigit():  # Verifica se a string é um número\n",
        "                return preco_atual\n",
        "\n",
        "    return None  # Retorna None se o preço não for encontrado ou não for válido\n",
        "\n",
        "# Função para extrair a quantidade e a unidade do título\n",
        "def extrair_quantidade_e_unidade(title):\n",
        "    # Procura por um número com casas decimais seguido da palavra \"kg\" ou \"g\" no título\n",
        "    match = re.search(r'(\\d+(?:,\\d+)?)\\s*([KGkg]{0,2})', title)\n",
        "    if match:\n",
        "        quantidade = float(match.group(1).replace(',', '.'))  # Obtém a quantidade como um número de ponto flutuante\n",
        "        unidade = match.group(2).upper()  # Obtém a unidade em maiúsculas\n",
        "        if not unidade:\n",
        "            unidade = 'G'  # Define 'KG' como unidade padrão se não for especificada\n",
        "    else:\n",
        "        quantidade = 1  # Define como 1 se a unidade não for encontrada\n",
        "        unidade = 'KG'  # Define 'KG' como unidade padrão\n",
        "    return quantidade, unidade\n",
        "\n",
        "# Função principal que coleta dados de várias URLs de produtos\n",
        "def principal(produtos):\n",
        "    todos_produtos = []\n",
        "    for nome_produto, url in produtos:\n",
        "        print(f\"Processando {nome_produto} de {url}\")\n",
        "        try:\n",
        "            response = requests.get(url, headers={\"User-Agent\": \"Mozilla/5.0\"})\n",
        "            if response.status_code == 200:\n",
        "                print(\"Resposta HTTP bem-sucedida.\")\n",
        "                produto = extrair_dados_frutiver(response.text, nome_produto)\n",
        "                if produto:\n",
        "                    print(f\"Produto extraído: {produto}\")\n",
        "                    todos_produtos.append(produto)\n",
        "                else:\n",
        "                    print(\"Falha na extração do produto.\")\n",
        "            else:\n",
        "                print(f\"Falha na solicitação para {url} - Status Code: {response.status_code}\")\n",
        "        except requests.RequestException as e:\n",
        "            print(f\"Erro ao fazer a solicitação: {e}\")\n",
        "\n",
        "        #time.sleep(2)  # Atraso de 2 segundos entre cada solicitação\n",
        "\n",
        "    if todos_produtos:\n",
        "        df_local = pd.DataFrame(todos_produtos)\n",
        "        print(\"DataFrame criado com sucesso.\")\n",
        "        print(df_local.head())\n",
        "        df_local.to_csv('frutiver_precos_kg.csv', index=False)\n",
        "        print(\"Arquivo CSV 'frutiver_precos_kg.csv' criado com sucesso.\")\n",
        "    else:\n",
        "        print(\"Nenhum produto foi adicionado ao DataFrame.\")\n",
        "\n",
        "# Chama a função principal com a lista de produtos\n",
        "principal(produtos)\"\"\""
      ],
      "metadata": {
        "id": "KdorlWx0ccRX",
        "colab": {
          "base_uri": "https://localhost:8080/"
        },
        "outputId": "42863a27-d897-40c1-d534-7ccf3c72295a"
      },
      "execution_count": null,
      "outputs": [
        {
          "output_type": "execute_result",
          "data": {
            "text/plain": [
              "'# Função para extrair dados de uma URL\\ndef extrair_dados_frutiver(url, nome_produto):\\n    # Define um cabeçalho de usuário para a solicitação HTTP\\n    headers = {\\n    \"User-Agent\": \"Mozilla/5.0 (iPhone; CPU iPhone OS 14_4 like Mac OS X) AppleWebKit/605.1.15 (KHTML, like Gecko) Version/14.0.3 Mobile/15E148 Safari/604.1\"\\n}\\n    response = requests.get(url, headers=headers)\\n    soup = BeautifulSoup(response.text, \\'html.parser\\')  # Analisa o HTML da página\\n\\n    # Extrai o título da página\\n    title = soup.find(\\'title\\').text\\n\\n    # Extrai o preço atual do produto\\n    preco_atual = extrair_preco_atual(soup)\\n\\n    # Extrai a quantidade e a unidade do título\\n    quantidade, unidade = extrair_quantidade_e_unidade(title)\\n\\n    # Calcula o preço por quilo\\n    preco_por_quilo = calcular_preco_por_quilo(preco_atual, quantidade, unidade)\\n\\n    # Obtém a data e hora da extração\\n    extraction_datetime = datetime.now().strftime(\"%Y-%m-%d %H:%M:%S\")\\n\\n    # Formata a quantidade com vírgula como separador de casas decimais\\n    quantidade_str = f\"{quantidade:.2f}\".replace(\\'.\\', \\',\\')\\n\\n    # Verifica se o preço por quilo está disponível antes de formatá-lo como uma string\\n    if preco_por_quilo is not None:\\n        # Formata o preço por quilo com vírgula como separador de casas decimais\\n        preco_por_quilo_str = f\"{preco_por_quilo:.2f}\".replace(\\'.\\', \\',\\')\\n    else:\\n        preco_por_quilo_str = None\\n\\n    # Retorna um dicionário com os dados do produto\\n    return {\\n        \\'name\\': nome_produto,\\n        \\'price\\': preco_atual,\\n        \\'quantity\\': quantidade_str,\\n        \\'unit\\': unidade,\\n        \\'price_per_kg\\': preco_por_quilo_str,\\n        \\'extraction_datetime\\': extraction_datetime,\\n        \\'store\\': \\'Frutiver\\'\\n    }\\n\\n# Função para calcular o preço por quilo\\ndef calcular_preco_por_quilo(preco, quantidade, unidade):\\n    if preco is None:\\n        return None  # Retorna None para o preço por quilo se o preço não estiver disponível\\n\\n    preco = float(preco.replace(\\',\\', \\'.\\'))  # Converte o preço em um número de ponto flutuante\\n    preco_por_quilo = None\\n\\n    if quantidade:\\n        if unidade == \\'G\\':\\n            preco_por_quilo = (preco / quantidade) * 1000  # Calcula o preço por quilo\\n        elif unidade == \\'KG\\':\\n            preco_por_quilo = preco / quantidade  # Calcula o preço por quilo\\n\\n    # Arredonda o valor para baixo com duas casas decimais\\n    preco_por_quilo = math.floor(preco_por_quilo * 100) / 100\\n\\n    return preco_por_quilo\\n\\n# Função para extrair o preço atual do produto do HTML\\ndef extrair_preco_atual(soup):\\n    # Tenta encontrar o elemento com a classe \"price\"\\n    price_element = soup.find(\\'p\\', class_=\\'price\\')\\n\\n    if price_element:\\n        # Procura dentro do elemento price por elementos span que contenham o preço\\n        price_span = price_element.find(\\'span\\', class_=\\'woocommerce-Price-amount\\')\\n\\n        if price_span:\\n            # Obtém o texto do preço e remove o símbolo \"R$\"\\n            preco_atual = price_span.text.replace(\\'R$\\', \\'\\').strip()\\n\\n            if preco_atual.replace(\\',\\', \\'\\', 1).isdigit():  # Verifica se a string é um número\\n                return preco_atual\\n\\n    return None  # Retorna None se o preço não for encontrado ou não for válido\\n\\n# Função para extrair a quantidade e a unidade do título\\ndef extrair_quantidade_e_unidade(title):\\n    # Procura por um número com casas decimais seguido da palavra \"kg\" ou \"g\" no título\\n    match = re.search(r\\'(\\\\d+(?:,\\\\d+)?)\\\\s*([KGkg]{0,2})\\', title)\\n    if match:\\n        quantidade = float(match.group(1).replace(\\',\\', \\'.\\'))  # Obtém a quantidade como um número de ponto flutuante\\n        unidade = match.group(2).upper()  # Obtém a unidade em maiúsculas\\n        if not unidade:\\n            unidade = \\'G\\'  # Define \\'KG\\' como unidade padrão se não for especificada\\n    else:\\n        quantidade = 1  # Define como 1 se a unidade não for encontrada\\n        unidade = \\'KG\\'  # Define \\'KG\\' como unidade padrão\\n    return quantidade, unidade\\n\\n# Função principal que coleta dados de várias URLs de produtos\\ndef principal(produtos):\\n    todos_produtos = []\\n    for nome_produto, url in produtos:\\n        print(f\"Processando {nome_produto} de {url}\")\\n        try:\\n            response = requests.get(url, headers={\"User-Agent\": \"Mozilla/5.0\"})\\n            if response.status_code == 200:\\n                print(\"Resposta HTTP bem-sucedida.\")\\n                produto = extrair_dados_frutiver(response.text, nome_produto)\\n                if produto:\\n                    print(f\"Produto extraído: {produto}\")\\n                    todos_produtos.append(produto)\\n                else:\\n                    print(\"Falha na extração do produto.\")\\n            else:\\n                print(f\"Falha na solicitação para {url} - Status Code: {response.status_code}\")\\n        except requests.RequestException as e:\\n            print(f\"Erro ao fazer a solicitação: {e}\")\\n\\n        #time.sleep(2)  # Atraso de 2 segundos entre cada solicitação\\n\\n    if todos_produtos:\\n        df_local = pd.DataFrame(todos_produtos)\\n        print(\"DataFrame criado com sucesso.\")\\n        print(df_local.head())\\n        df_local.to_csv(\\'frutiver_precos_kg.csv\\', index=False)\\n        print(\"Arquivo CSV \\'frutiver_precos_kg.csv\\' criado com sucesso.\")\\n    else:\\n        print(\"Nenhum produto foi adicionado ao DataFrame.\")\\n\\n# Chama a função principal com a lista de produtos\\nprincipal(produtos)'"
            ],
            "application/vnd.google.colaboratory.intrinsic+json": {
              "type": "string"
            }
          },
          "metadata": {},
          "execution_count": 11
        }
      ]
    },
    {
      "cell_type": "markdown",
      "source": [
        "## Preços por Unidade"
      ],
      "metadata": {
        "id": "qNF3vR5o5poJ"
      }
    },
    {
      "cell_type": "code",
      "source": [
        "# Lista combinada de nomes e URLs dos produtos da Frutiver\n",
        "produtos_unidade = [\n",
        "    [\"Abacaxi\", \"https://www.frutiver.com.br/produto/abacaxi-perola-extra-a-und-900g/\"],\n",
        "    [\"Acelga\", \"https://www.frutiver.com.br/produto/acelga-emb-1kg/\"],\n",
        "    [\"Alface Crespa\", \"https://www.frutiver.com.br/produto/alface-crespo-und-120g/\"],\n",
        "    [\"Brócolis\", \"https://www.frutiver.com.br/produto/brocolis-ninja-und-300g/\"],\n",
        "    [\"Coco Verde\", \"https://www.frutiver.com.br/produto/coco-verde-und/\"],\n",
        "    [\"Coentro\", \"https://www.frutiver.com.br/produto/coentro-und-100g/\"],\n",
        "    [\"Cebolinha\", \"https://www.frutiver.com.br/produto/cebolinha-und-50g/\"],\n",
        "    [\"Couve Folha\", \"https://www.frutiver.com.br/produto/couve-folha-und-60g/\"]\n",
        "]"
      ],
      "metadata": {
        "id": "soueyO37pXrE"
      },
      "execution_count": null,
      "outputs": []
    },
    {
      "cell_type": "code",
      "source": [
        "# Função para extrair dados de uma URL\n",
        "def extrair_dados_frutiver_unidade(url, nome_produto):\n",
        "    headers = {\"User-Agent\": \"Mozilla/5.0\"}\n",
        "    response = requests.get(url, headers=headers)\n",
        "    soup = BeautifulSoup(response.text, 'html.parser')\n",
        "\n",
        "    preco_atual = extrair_preco_atual(soup)\n",
        "    extraction_datetime = datetime.now().strftime(\"%Y-%m-%d %H:%M:%S\")\n",
        "\n",
        "    return {\n",
        "        'name': nome_produto,\n",
        "        'price': preco_atual,\n",
        "        'extraction_datetime': extraction_datetime,\n",
        "        'store': 'Frutiver'\n",
        "    }\n",
        "\n",
        "# Função para extrair o preço atual do produto do HTML\n",
        "def extrair_preco_atual(soup):\n",
        "    price_element = soup.find('p', class_='price')\n",
        "    if price_element:\n",
        "        price_span = price_element.find('span', class_='woocommerce-Price-amount')\n",
        "        if price_span:\n",
        "            preco_atual = price_span.text.replace('R$', '').strip()\n",
        "            return preco_atual\n",
        "    return None\n",
        "\n",
        "# Função principal que coleta dados de várias URLs de produtos\n",
        "def principal_unidade():\n",
        "    todos_produtos = []\n",
        "    for nome_produto, url in produtos_unidade:\n",
        "        produto = extrair_dados_frutiver_unidade(url, nome_produto)\n",
        "        if produto['name'] and produto['price']:\n",
        "            todos_produtos.append(produto)\n",
        "\n",
        "    if todos_produtos:\n",
        "        df_local = pd.DataFrame(todos_produtos)\n",
        "        df_local = df_local[['name', 'price', 'extraction_datetime', 'store']]\n",
        "        df_local.to_csv('frutiver_precos_unidade.csv', index=False)\n",
        "\n",
        "        # Exibe as primeiras linhas do DataFrame local\n",
        "        print(df_local.head())\n",
        "\n",
        "if __name__ == \"__main__\":\n",
        "    principal_unidade()"
      ],
      "metadata": {
        "id": "FTE1XgIN5umQ",
        "colab": {
          "base_uri": "https://localhost:8080/"
        },
        "outputId": "82a8f2a7-efca-45c4-c5a9-ce06129d4cb7"
      },
      "execution_count": null,
      "outputs": [
        {
          "output_type": "stream",
          "name": "stdout",
          "text": [
            "            name  price  extraction_datetime     store\n",
            "0        Abacaxi   4,49  2024-02-20 23:20:00  Frutiver\n",
            "1         Acelga   6,99  2024-02-20 23:20:02  Frutiver\n",
            "2  Alface Crespa   2,49  2024-02-20 23:20:04  Frutiver\n",
            "3       Brócolis  16,99  2024-02-20 23:20:06  Frutiver\n",
            "4     Coco Verde   4,49  2024-02-20 23:20:07  Frutiver\n"
          ]
        }
      ]
    },
    {
      "cell_type": "markdown",
      "source": [
        "# Concatenando os arquivos"
      ],
      "metadata": {
        "id": "OXdcbzBlPClG"
      }
    },
    {
      "cell_type": "code",
      "source": [
        "# Carregue os 3 arquivos CSV em DataFrames individuais\n",
        "# df1 = pd.read_csv('frutiver_precos_kg.csv')\n",
        "df2 = pd.read_csv('gbarbosa_precos_kg.csv')\n",
        "df3 = pd.read_csv('quitandaria_precos_kg.csv')\n",
        "\n",
        "# Concatene os DataFrames verticalmente (um embaixo do outro)\n",
        "concatenated_df = pd.concat([df2, df3], axis=0)\n",
        "\n",
        "# Salve o DataFrame combinado como um novo arquivo CSV\n",
        "concatenated_df.to_csv('precos_kg.csv', index=False)\n",
        "\n",
        "# Verifique se o arquivo 'precos_kg.csv' foi criado com sucesso\n",
        "import os\n",
        "if os.path.exists('precos_kg.csv'):\n",
        "    print(\"Arquivo 'precos_kg.csv' criado com sucesso.\")\n",
        "else:\n",
        "    print(\"Algo deu errado ao criar o arquivo CSV combinado.\")\n"
      ],
      "metadata": {
        "colab": {
          "base_uri": "https://localhost:8080/"
        },
        "id": "IxZXcK2jPKYL",
        "outputId": "75d22ca7-33d8-4603-9ff9-43a820181c99"
      },
      "execution_count": null,
      "outputs": [
        {
          "output_type": "stream",
          "name": "stdout",
          "text": [
            "Arquivo 'precos_kg.csv' criado com sucesso.\n"
          ]
        }
      ]
    },
    {
      "cell_type": "code",
      "source": [
        "# Carregue os 3 arquivos CSV em DataFrames individuais\n",
        "df1 = pd.read_csv('frutiver_precos_unidade.csv')\n",
        "df2 = pd.read_csv('gbarbosa_precos_unidade.csv')\n",
        "df3 = pd.read_csv('quitandaria_precos_unidade.csv')\n",
        "\n",
        "# Concatene os DataFrames verticalmente (um embaixo do outro)\n",
        "concatenated_df = pd.concat([df2, df3], axis=0)\n",
        "\n",
        "# Salve o DataFrame combinado como um novo arquivo CSV\n",
        "concatenated_df.to_csv('precos_unidade.csv', index=False)\n",
        "\n",
        "# Verifique se o arquivo 'precos_unidade.csv' foi criado com sucesso\n",
        "import os\n",
        "if os.path.exists('precos_unidade.csv'):\n",
        "    print(\"Arquivo 'precos_unidade.csv' criado com sucesso.\")\n",
        "else:\n",
        "    print(\"Algo deu errado ao criar o arquivo CSV combinado.\")"
      ],
      "metadata": {
        "id": "ySiA3q9ydUgL",
        "colab": {
          "base_uri": "https://localhost:8080/"
        },
        "outputId": "ce4b163f-9602-4a78-d235-05f8e0a850e9"
      },
      "execution_count": null,
      "outputs": [
        {
          "output_type": "stream",
          "name": "stdout",
          "text": [
            "Arquivo 'precos_unidade.csv' criado com sucesso.\n"
          ]
        }
      ]
    },
    {
      "cell_type": "markdown",
      "source": [
        "#Ajustando Código do Produto"
      ],
      "metadata": {
        "id": "M91bPVqt-KuY"
      }
    },
    {
      "cell_type": "code",
      "source": [
        "# Função para substituir '.' por ','\n",
        "def substituir_ponto_por_virgula(df):\n",
        "    for coluna in df.columns:\n",
        "        # Apenas se a coluna for do tipo object (string), substituir '.' por ','\n",
        "        if df[coluna].dtype == 'object':\n",
        "            df[coluna] = df[coluna].str.replace('.', ',', regex=False)\n",
        "    return df\n",
        "\n",
        "# Carregando os arquivos CSV\n",
        "precos_kg_df = pd.read_csv('precos_kg.csv')\n",
        "precos_unidade_df = pd.read_csv('precos_unidade.csv')\n",
        "\n",
        "# Aplicando a substituição\n",
        "precos_kg_df = substituir_ponto_por_virgula(precos_kg_df)\n",
        "precos_unidade_df = substituir_ponto_por_virgula(precos_unidade_df)\n",
        "\n",
        "# Sobrescrevendo os arquivos CSV existentes\n",
        "precos_kg_df.to_csv('precos_kg.csv', index=False)\n",
        "precos_unidade_df.to_csv('precos_unidade.csv', index=False)\n",
        "\n",
        "print(\"Substituição de '.' por ',' concluída nos arquivos CSV.\")"
      ],
      "metadata": {
        "colab": {
          "base_uri": "https://localhost:8080/"
        },
        "id": "wRsjlgI2I54m",
        "outputId": "3a3962f0-35a9-40c8-df17-4f3af5b5eabf"
      },
      "execution_count": null,
      "outputs": [
        {
          "output_type": "stream",
          "name": "stdout",
          "text": [
            "Substituição de '.' por ',' concluída nos arquivos CSV.\n"
          ]
        }
      ]
    },
    {
      "cell_type": "markdown",
      "source": [
        "#Fazendo Download"
      ],
      "metadata": {
        "id": "s8NjKlYOCJa5"
      }
    },
    {
      "cell_type": "code",
      "source": [
        "# Lista de nomes dos arquivos que você deseja baixar\n",
        "arquivos_para_download = ['precos_kg.csv', 'precos_unidade.csv']\n",
        "\n",
        "# Loop para fazer o download de cada arquivo\n",
        "for arquivo in arquivos_para_download:\n",
        "    files.download(arquivo)"
      ],
      "metadata": {
        "id": "p25Aw7RDFPxK",
        "colab": {
          "base_uri": "https://localhost:8080/"
        },
        "outputId": "fb7caddb-7478-4d8c-94c7-1e50182c0996"
      },
      "execution_count": null,
      "outputs": [
        {
          "output_type": "display_data",
          "data": {
            "text/plain": [
              "<IPython.core.display.Javascript object>"
            ],
            "application/javascript": [
              "\n",
              "    async function download(id, filename, size) {\n",
              "      if (!google.colab.kernel.accessAllowed) {\n",
              "        return;\n",
              "      }\n",
              "      const div = document.createElement('div');\n",
              "      const label = document.createElement('label');\n",
              "      label.textContent = `Downloading \"${filename}\": `;\n",
              "      div.appendChild(label);\n",
              "      const progress = document.createElement('progress');\n",
              "      progress.max = size;\n",
              "      div.appendChild(progress);\n",
              "      document.body.appendChild(div);\n",
              "\n",
              "      const buffers = [];\n",
              "      let downloaded = 0;\n",
              "\n",
              "      const channel = await google.colab.kernel.comms.open(id);\n",
              "      // Send a message to notify the kernel that we're ready.\n",
              "      channel.send({})\n",
              "\n",
              "      for await (const message of channel.messages) {\n",
              "        // Send a message to notify the kernel that we're ready.\n",
              "        channel.send({})\n",
              "        if (message.buffers) {\n",
              "          for (const buffer of message.buffers) {\n",
              "            buffers.push(buffer);\n",
              "            downloaded += buffer.byteLength;\n",
              "            progress.value = downloaded;\n",
              "          }\n",
              "        }\n",
              "      }\n",
              "      const blob = new Blob(buffers, {type: 'application/binary'});\n",
              "      const a = document.createElement('a');\n",
              "      a.href = window.URL.createObjectURL(blob);\n",
              "      a.download = filename;\n",
              "      div.appendChild(a);\n",
              "      a.click();\n",
              "      div.remove();\n",
              "    }\n",
              "  "
            ]
          },
          "metadata": {}
        },
        {
          "output_type": "display_data",
          "data": {
            "text/plain": [
              "<IPython.core.display.Javascript object>"
            ],
            "application/javascript": [
              "download(\"download_83178e3d-a7be-4cda-bac6-a168c887df5c\", \"precos_kg.csv\", 4737)"
            ]
          },
          "metadata": {}
        },
        {
          "output_type": "display_data",
          "data": {
            "text/plain": [
              "<IPython.core.display.Javascript object>"
            ],
            "application/javascript": [
              "\n",
              "    async function download(id, filename, size) {\n",
              "      if (!google.colab.kernel.accessAllowed) {\n",
              "        return;\n",
              "      }\n",
              "      const div = document.createElement('div');\n",
              "      const label = document.createElement('label');\n",
              "      label.textContent = `Downloading \"${filename}\": `;\n",
              "      div.appendChild(label);\n",
              "      const progress = document.createElement('progress');\n",
              "      progress.max = size;\n",
              "      div.appendChild(progress);\n",
              "      document.body.appendChild(div);\n",
              "\n",
              "      const buffers = [];\n",
              "      let downloaded = 0;\n",
              "\n",
              "      const channel = await google.colab.kernel.comms.open(id);\n",
              "      // Send a message to notify the kernel that we're ready.\n",
              "      channel.send({})\n",
              "\n",
              "      for await (const message of channel.messages) {\n",
              "        // Send a message to notify the kernel that we're ready.\n",
              "        channel.send({})\n",
              "        if (message.buffers) {\n",
              "          for (const buffer of message.buffers) {\n",
              "            buffers.push(buffer);\n",
              "            downloaded += buffer.byteLength;\n",
              "            progress.value = downloaded;\n",
              "          }\n",
              "        }\n",
              "      }\n",
              "      const blob = new Blob(buffers, {type: 'application/binary'});\n",
              "      const a = document.createElement('a');\n",
              "      a.href = window.URL.createObjectURL(blob);\n",
              "      a.download = filename;\n",
              "      div.appendChild(a);\n",
              "      a.click();\n",
              "      div.remove();\n",
              "    }\n",
              "  "
            ]
          },
          "metadata": {}
        },
        {
          "output_type": "display_data",
          "data": {
            "text/plain": [
              "<IPython.core.display.Javascript object>"
            ],
            "application/javascript": [
              "download(\"download_f020145d-97f1-4378-a6e9-e58fe5044dce\", \"precos_unidade.csv\", 610)"
            ]
          },
          "metadata": {}
        }
      ]
    }
  ]
}